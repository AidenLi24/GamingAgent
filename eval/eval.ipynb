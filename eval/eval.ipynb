{
 "cells": [
  {
   "cell_type": "markdown",
   "metadata": {},
   "source": [
    "# Introduction\n",
    "\n",
    "We provide an evaluation pipeline to analyze results on **lmgame-Bench**. 🎮\n",
    "\n",
    "- **Code:** <https://github.com/lmgame-org/GamingAgent>  \n",
    "- **Leaderboard:** <https://huggingface.co/spaces/lmgame/game_arena_bench>  \n",
    "- **Paper:** <https://arxiv.org/abs/2505.15146>\n",
    "\n",
    "You can evaluate your model in two ways 📊:\n",
    "\n",
    "1. **Entire cache directory:** Copy the entire cache directory containing all cached episodes to obtain aggregate performance across all games.  \n",
    "2. **Single-episode JSONL:** Specify an individual log file (e.g., `episode_001_log.jsonl`) to evaluate performance for a single game episode.\n"
   ]
  },
  {
   "cell_type": "code",
   "execution_count": 1,
   "metadata": {},
   "outputs": [],
   "source": [
    "import os\n",
    "import glob"
   ]
  },
  {
   "cell_type": "code",
   "execution_count": 2,
   "metadata": {},
   "outputs": [
    {
     "data": {
      "text/plain": [
       "{'cache_directory': None, 'agent_config_files': [], 'episode_log_files': []}"
      ]
     },
     "execution_count": 2,
     "metadata": {},
     "output_type": "execute_result"
    }
   ],
   "source": [
    "def check_evaluation_files(cache_dir_status, single_json_status):\n",
    "    report = {}\n",
    "\n",
    "    if cache_dir_status:\n",
    "        cache_dir_path_to_check = \"cache\"\n",
    "        if os.path.isdir(cache_dir_path_to_check):\n",
    "            report[\"cache_directory\"] = cache_dir_path_to_check\n",
    "            # Optional: print(f\"Cache directory '{cache_dir_path_to_check}' found.\")\n",
    "        else:\n",
    "            report[\"cache_directory\"] = None\n",
    "            print(f\"Error: Cache directory '{cache_dir_path_to_check}' not found.\") # Cache not found error\n",
    "\n",
    "    if single_json_status:\n",
    "        agent_file_path = None\n",
    "        agent_files = glob.glob(\"agent_config*.json\")\n",
    "\n",
    "        if len(agent_files) == 0:\n",
    "            print(\"Error: No 'agent_config*.json' file found.\") # No agent_config error\n",
    "        elif len(agent_files) > 1:\n",
    "            print(f\"Error: Multiple 'agent_config*.json' files found: {agent_files}. Please ensure only one is present.\") # Multiple agent_config error\n",
    "            # agent_file_path remains None as we don't know which one to pick\n",
    "        else: # Exactly one agent_config file found\n",
    "            agent_file_path = agent_files[0]\n",
    "            # Optional: print(f\"Agent config file found: {agent_file_path}\")\n",
    "\n",
    "\n",
    "        episode_file_path = None\n",
    "        episode_files = glob.glob(\"episode_*.jsonl\")\n",
    "\n",
    "        if len(episode_files) == 0:\n",
    "            print(\"Error: No 'episode_*.jsonl' file found.\") # No episode_log error\n",
    "        elif len(episode_files) > 1:\n",
    "            print(f\"Error: Multiple 'episode_*.jsonl' files found: {episode_files}. Please ensure only one is present.\") # Multiple episode_log error\n",
    "            # episode_file_path remains None\n",
    "        else: # Exactly one episode_log file found\n",
    "            episode_file_path = episode_files[0]\n",
    "            # Optional: print(f\"Episode log file found: {episode_file_path}\")\n",
    "    \n",
    "        report[\"json_files\"] = [agent_file_path, episode_file_path]\n",
    "\n",
    "    # Optional: A check to see if any evaluation mode was selected\n",
    "    # if not cache_dir_status and not single_json_status:\n",
    "    #     print(\"Info: Neither cache directory check nor single JSON file check was requested.\")\n",
    "\n",
    "    return report\n",
    "\n",
    "# eval params\n",
    "use_cache_dir = True # Set to True or False as needed\n",
    "use_single_json = True # Set to True or False as needed\n",
    "\n",
    "check_evaluation_files(use_cache_dir, use_single_json)"
   ]
  }
 ],
 "metadata": {
  "kernelspec": {
   "display_name": "game_agent_env",
   "language": "python",
   "name": "python3"
  },
  "language_info": {
   "codemirror_mode": {
    "name": "ipython",
    "version": 3
   },
   "file_extension": ".py",
   "mimetype": "text/x-python",
   "name": "python",
   "nbconvert_exporter": "python",
   "pygments_lexer": "ipython3",
   "version": "3.10.16"
  }
 },
 "nbformat": 4,
 "nbformat_minor": 2
}
